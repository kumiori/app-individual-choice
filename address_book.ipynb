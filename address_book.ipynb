{
 "cells": [
  {
   "cell_type": "code",
   "execution_count": 2,
   "metadata": {},
   "outputs": [],
   "source": [
    "import hashlib\n"
   ]
  },
  {
   "cell_type": "code",
   "execution_count": 22,
   "metadata": {},
   "outputs": [],
   "source": [
    "\n",
    "def generate_resource_locator(trio_list):\n",
    "    md5_encoded_list = []\n",
    "\n",
    "    for trio in trio_list:\n",
    "        original_string, encoded_string, emoticon = trio\n",
    "        md5_hash = hashlib.md5(original_string.encode()).hexdigest()\n",
    "        prefix = emoticon+'_' if emoticon else ''\n",
    "        md5_encoded_list.append((original_string, prefix + md5_hash + '.py'))\n",
    "\n",
    "    return md5_encoded_list\n",
    "\n",
    "\n"
   ]
  },
  {
   "cell_type": "code",
   "execution_count": 24,
   "metadata": {},
   "outputs": [
    {
     "name": "stdout",
     "output_type": "stream",
     "text": [
      "[('hermes', 'b33a4006134bb6ee62b30fc0fac5cec6.py'), ('iceicecracks', '❤️_1bf3b56c5601d28a154140b1c74e1689.py'), ('athens', '❤️_8fde6a6592bb16b80a40c8a641232c2e.py'), ('random', '❤️_7ddf32e17a6ac5ce04a8ecbf782ca509.py'), ('stellazzurra', '❤️_c2dd44d7377dd3b0169f4d060c084208.py'), ('food', '❤️_62506be34d574da4a0d158a67253ea99.py'), ('whatthefuckisgoingon', '❤️_30d14de0994bbc0474a70e24b5f47018.py')]\n"
     ]
    }
   ],
   "source": [
    "# Example usage\n",
    "project_pages = [\n",
    "    (\"hermes\", \"\", \"\"), \n",
    "    (\"iceicecracks\", \"\", \"❤️\",),\n",
    "    (\"athens\", \"\", \"❤️\",),\n",
    "    (\"random\", \"\", \"❤️\",),\n",
    "    (\"stellazzurra\", \"\", \"❤️\",),\n",
    "    (\"food\", \"\", \"❤️\",),\n",
    "    (\"whatthefuckisgoingon\", \"\", \"❤️\",),\n",
    "    ]\n",
    "result = generate_resource_locator(project_pages)\n",
    "\n",
    "print(result)"
   ]
  },
  {
   "cell_type": "code",
   "execution_count": null,
   "metadata": {},
   "outputs": [],
   "source": []
  },
  {
   "cell_type": "code",
   "execution_count": null,
   "metadata": {},
   "outputs": [],
   "source": []
  }
 ],
 "metadata": {
  "kernelspec": {
   "display_name": "virtual",
   "language": "python",
   "name": "python3"
  },
  "language_info": {
   "codemirror_mode": {
    "name": "ipython",
    "version": 3
   },
   "file_extension": ".py",
   "mimetype": "text/x-python",
   "name": "python",
   "nbconvert_exporter": "python",
   "pygments_lexer": "ipython3",
   "version": "3.11.6"
  },
  "orig_nbformat": 4
 },
 "nbformat": 4,
 "nbformat_minor": 2
}
